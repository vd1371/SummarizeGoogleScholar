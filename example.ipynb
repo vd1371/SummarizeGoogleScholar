{
 "cells": [
  {
   "cell_type": "code",
   "execution_count": 1,
   "metadata": {},
   "outputs": [
    {
     "name": "stdout",
     "output_type": "stream",
     "text": [
      "['https://scholar.google.com/citations?view_op=view_citation&hl=en&user=eUlLuc8AAAAJ&sortby=pubdate&citation_for_view=eUlLuc8AAAAJ:Se3iqnhoufwC']\n"
     ]
    }
   ],
   "source": [
    "from her import Her\n",
    "from scraper import get_scholar_papers, get_paper_details\n",
    "\n",
    "results = get_scholar_papers(\n",
    "  \"The google scholar url of the author\",\n",
    "  sort_by=\"year\", # Citations or year\n",
    "  num_papers=1 # Number of papers to return\n",
    ")\n",
    "\n",
    "all_papers = []\n",
    "for link in results:\n",
    "    paper_info = get_paper_details(link)\n",
    "    all_papers.append(paper_info)\n",
    "\n",
    "resume = \"\"\"\n",
    "\n",
    "Put your resume here\n",
    "\n",
    "\"\"\"\n",
    "\n",
    "her = Her()\n",
    "her.write_email(resume, all_papers)"
   ]
  }
 ],
 "metadata": {
  "kernelspec": {
   "display_name": "Python 3",
   "language": "python",
   "name": "python3"
  },
  "language_info": {
   "codemirror_mode": {
    "name": "ipython",
    "version": 3
   },
   "file_extension": ".py",
   "mimetype": "text/x-python",
   "name": "python",
   "nbconvert_exporter": "python",
   "pygments_lexer": "ipython3",
   "version": "3.10.12"
  }
 },
 "nbformat": 4,
 "nbformat_minor": 2
}
